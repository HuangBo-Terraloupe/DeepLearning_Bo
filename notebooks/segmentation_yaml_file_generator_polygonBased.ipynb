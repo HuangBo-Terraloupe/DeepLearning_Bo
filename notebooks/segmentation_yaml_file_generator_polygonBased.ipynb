{
 "cells": [
  {
   "cell_type": "code",
   "execution_count": 1,
   "metadata": {},
   "outputs": [],
   "source": [
    "import os\n",
    "import yaml\n",
    "import numpy as np\n",
    "import pandas as pd\n",
    "import geopandas as gpd\n",
    "import matplotlib.pyplot as plt\n",
    "\n",
    "from random import shuffle"
   ]
  },
  {
   "cell_type": "code",
   "execution_count": 2,
   "metadata": {},
   "outputs": [],
   "source": [
    "# read patch bounds file\n",
    "patch_bounds_file = '/home/terraloupe/yaml_files/nrw_dop10_stop_line_2nd_iteration_v1/patch_bounds_filtered_no_overlaps.geojson'\n",
    "\n",
    "# read statistic file\n",
    "df = pd.read_csv('/home/terraloupe/yaml_files/nrw_dop10_stop_line_2nd_iteration_v1/mask_stats.csv')"
   ]
  },
  {
   "cell_type": "code",
   "execution_count": 4,
   "metadata": {},
   "outputs": [
    {
     "name": "stdout",
     "output_type": "stream",
     "text": [
      "66064 65404 65404\n",
      "Populating the interactive namespace from numpy and matplotlib\n"
     ]
    },
    {
     "name": "stderr",
     "output_type": "stream",
     "text": [
      "/usr/local/lib/python3.5/dist-packages/IPython/core/magics/pylab.py:160: UserWarning: pylab import has clobbered these variables: ['shuffle']\n",
      "`%matplotlib` prevents importing * from pylab and numpy\n",
      "  \"\\n`%matplotlib` prevents importing * from pylab and numpy\"\n"
     ]
    },
    {
     "data": {
      "image/png": "[encoded data removed]",
      "text/plain": [
       "<matplotlib.figure.Figure at 0x7f64fa6a5630>"
      ]
     },
     "metadata": {},
     "output_type": "display_data"
    },
    {
     "name": "stdout",
     "output_type": "stream",
     "text": [
      "number of positives: 13264 ,number of negatives: 52140 ,ratio: 0.25439202148062906\n"
     ]
    }
   ],
   "source": [
    "# filter the statistic dataframe\n",
    "polygon = gpd.read_file(patch_bounds_file)\n",
    "patch_id = [os.path.split(x)[-1].split('.')[0] for x in list(np.array(polygon.location))]\n",
    "polygon['patch_id'] = pd.Series(patch_id, index=polygon.index)\n",
    "polygon.head()\n",
    "\n",
    "df['total'] = pd.Series(np.array(df['background']) + np.array(df['Stop Line']), index=df.index)\n",
    "df['percentage'] = pd.Series(np.array(df['Stop Line']) / np.array(df['total']), index=df.index) \n",
    "df_valid = df[df.filename.isin(np.array(polygon.patch_id).tolist())]\n",
    "print(len(df), len(df_valid), len(polygon))\n",
    "print('------------------------------------')\n",
    "\n",
    "%pylab inline\n",
    "plt.hist(df_valid['percentage'], bins=20, range=(0.0, 0.003))  # arguments are passed to np.histogram\n",
    "plt.title(\"Training data distribution\")\n",
    "plt.show()\n",
    "\n",
    "threshold = 0.0\n",
    "positive_samples = df_valid[df_valid.percentage > threshold]\n",
    "negative_samples = df_valid[df_valid.percentage <= threshold]\n",
    "print('number of positives:', len(positive_samples), \n",
    "      ',number of negatives:', len(negative_samples), \n",
    "      ',ratio:', len(positive_samples)/len(negative_samples))"
   ]
  },
  {
   "cell_type": "code",
   "execution_count": 5,
   "metadata": {},
   "outputs": [
    {
     "name": "stdout",
     "output_type": "stream",
     "text": [
      "20264\n",
      "4.9348598499802604e-05 1.0042449837159667e-05\n",
      "59404 6000 65404\n",
      "number of train files: 59404 number of validation files: 6000\n"
     ]
    }
   ],
   "source": [
    "num_positives_to_val = 3000\n",
    "num_negatives_to_val = 3000\n",
    "num_negatives_to_train_sampling = 10000\n",
    "\n",
    "positive_samples_files = list(positive_samples['filename'])\n",
    "shuffle(positive_samples_files)\n",
    "negative_samples_files = list(negative_samples['filename'])\n",
    "shuffle(negative_samples_files)\n",
    "\n",
    "val_positive_samples = positive_samples_files[0:num_positives_to_val]\n",
    "val_negative_samples = negative_samples_files[0:num_negatives_to_val]\n",
    "train_positive_samples = positive_samples_files[num_positives_to_val:]\n",
    "train_negative_samples = negative_samples_files[num_negatives_to_val:]\n",
    "\n",
    "num_sub_train_set = len(train_positive_samples) + 10000\n",
    "print(num_sub_train_set)\n",
    "\n",
    "p_train_positive_samples = 1 / num_sub_train_set\n",
    "p_train_negative_samples = 10000 / (num_sub_train_set * len(train_negative_samples))\n",
    "print(p_train_positive_samples, p_train_negative_samples)\n",
    "\n",
    "p_train_positive_samples_list = [p_train_positive_samples] * len(train_positive_samples)\n",
    "p_train_negative_samples_list = [p_train_negative_samples] * len(train_negative_samples)\n",
    "p_train = p_train_positive_samples_list + p_train_negative_samples_list\n",
    "\n",
    "# combine training and validation\n",
    "train_files = train_positive_samples + train_negative_samples\n",
    "val_files = val_positive_samples + val_negative_samples\n",
    "\n",
    "val_files = [x.split('.')[0] for x in val_files]\n",
    "train_files = [x.split('.')[0] for x in train_files]\n",
    "polygon=polygon.set_index(\"patch_id\")\n",
    "\n",
    "missing_bounds = []\n",
    "val_files_polygon = []\n",
    "for file in val_files:\n",
    "    try:\n",
    "        val_files_polygon.append(polygon.loc[file].geometry.wkt)\n",
    "    except:\n",
    "        print(file.split('.')[0])\n",
    "        missing_bounds.append(file.split('.')[0])\n",
    "        continue\n",
    "        \n",
    "train_files_polygon = []\n",
    "for file in train_files:\n",
    "    try:\n",
    "        train_files_polygon.append(polygon.loc[file].geometry.wkt)\n",
    "    except:\n",
    "        print(file.split('.')[0])\n",
    "        missing_bounds.append(file.split('.')[0])\n",
    "        continue\n",
    "        \n",
    "print('number of train files:',len(train_files_polygon), 'number of validation files:', len(val_files_polygon))"
   ]
  },
  {
   "cell_type": "code",
   "execution_count": 6,
   "metadata": {},
   "outputs": [],
   "source": [
    "# configuration\n",
    "experiment_name = 'stop line 2nd iteration v1' \n",
    "outfile_name = '/home/terraloupe/yaml_files/nrw_dop10_stop_line_2nd_iteration_v1/stop_line_2nd_iteration_v1.yml'\n",
    "class_names = ['background', 'Stop Line']\n",
    "vrt = \"images_filtered_no_overlaps.vrt\" # image vrt\n",
    "vectors = \"labels_filtered_no_overlaps.geojson\" # label the geojson file"
   ]
  },
  {
   "cell_type": "code",
   "execution_count": 7,
   "metadata": {},
   "outputs": [],
   "source": [
    "# save filenames into yaml\n",
    "NAME = experiment_name  # Name of the dataset (optional)\n",
    "\n",
    "IMG_TYPE = \"ortho\"  # optional\n",
    "IMG_CHANNELS = \"rgb\"\n",
    "SOURCE_BITDEPTH = 8\n",
    "\n",
    "CLASS_NAMES = class_names\n",
    "\n",
    "GT_TYPE = \"semseg\"  # semseg, detection, bbox\n",
    "\n",
    "PREFIX = ''\n",
    "\n",
    "OUTFILE_NAME = outfile_name\n",
    "\n",
    "data = {\"type\": IMG_TYPE, \"channels\": IMG_CHANNELS, \"source_bitdepth\": SOURCE_BITDEPTH}\n",
    "classes = [{\"index\": i, \"name\": cls} for i, cls in enumerate(CLASS_NAMES)]\n",
    "ground_truth = {\"type\": GT_TYPE, \"classes\": classes}"
   ]
  },
  {
   "cell_type": "code",
   "execution_count": null,
   "metadata": {},
   "outputs": [],
   "source": [
    "train = {'images': train_files_polygon, 'labels': train_files_polygon[:], 'probability':p_train}\n",
    "val = {'images': val_files_polygon, 'labels': val_files_polygon[:], 'probability':[]}\n",
    "test = {'images': [], 'labels': [], 'probability':[]}\n",
    "\n",
    "dataset = {\"name\": NAME,\n",
    "           \"prefix\": PREFIX,\n",
    "           \"data\": data,\n",
    "           \"ground_truth\": ground_truth,\n",
    "           'training': train,\n",
    "           'validation': val,\n",
    "           'testing': test,\n",
    "           \"vrt\": vrt,\n",
    "           \"vectors\": vectors,\n",
    "           }\n",
    "\n",
    "with open(os.path.join(PREFIX, OUTFILE_NAME), \"w\") as f:\n",
    "    yaml.dump(dataset, f, default_flow_style=False)"
   ]
  }
 ],
 "metadata": {
  "kernelspec": {
   "display_name": "Python 3",
   "language": "python",
   "name": "python3"
  },
  "language_info": {
   "codemirror_mode": {
    "name": "ipython",
    "version": 3
   },
   "file_extension": ".py",
   "mimetype": "text/x-python",
   "name": "python",
   "nbconvert_exporter": "python",
   "pygments_lexer": "ipython3",
   "version": "3.5.2"
  }
 },
 "nbformat": 4,
 "nbformat_minor": 2
}
