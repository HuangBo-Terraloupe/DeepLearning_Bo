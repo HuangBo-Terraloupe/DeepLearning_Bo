{
 "cells": [
  {
   "cell_type": "code",
   "execution_count": 1,
   "metadata": {},
   "outputs": [],
   "source": [
    "import os\n",
    "import json\n",
    "import rasterio\n",
    "import numpy as np\n",
    "import geopandas as gpd\n",
    "\n",
    "from glob import glob\n",
    "from rasterio.features import shapes\n",
    "from shapely.geometry import shape, box\n",
    "from geopandas import GeoSeries, GeoDataFrame"
   ]
  },
  {
   "cell_type": "code",
   "execution_count": 2,
   "metadata": {},
   "outputs": [],
   "source": [
    "def filter_raster_with_threshold(raster, threshold, output_file):\n",
    "    # load merged classified raster -> vectorize\n",
    "    im = rasterio.open(raster)\n",
    "    data = im.read(1)\n",
    "\n",
    "    data[data <= threshold] = 0\n",
    "    data[data > threshold] = 1\n",
    "\n",
    "    meta_data = im.profile\n",
    "\n",
    "    with rasterio.open(output_file, 'w', **meta_data) as dst:\n",
    "        dst.write(data, 1)"
   ]
  },
  {
   "cell_type": "code",
   "execution_count": null,
   "metadata": {},
   "outputs": [],
   "source": [
    "threshold = 80\n",
    "raster = '/home/terraloupe/Downloads/leverkusen_showcase/stop_line/segmentation_results_stop_line_2nd_iteration_v1_leverkusen_showcase_nrw_dop10_319999_5622000.tif'\n",
    "output_file = '/home/terraloupe/Downloads/leverkusen_showcase/stop_line/cutoff_80.tif'\n",
    "filter_raster_with_threshold(raster, threshold, output_file)"
   ]
  },
  {
   "cell_type": "code",
   "execution_count": null,
   "metadata": {},
   "outputs": [],
   "source": [
    "def sign_category_dataframe(file, output_name, output_dir, threshold):\n",
    "    \n",
    "    # read the un-filtered data frame\n",
    "    df = gpd.read_file(file)\n",
    "    df_out = []\n",
    "    \n",
    "    # filter the None and sign category\n",
    "    for index, row in df.iterrows():\n",
    "        if row['geometry'] is None:\n",
    "            print('remove None')\n",
    "            continue\n",
    "        if threshold is not None:\n",
    "            if row['score'] < threshold:\n",
    "                continue\n",
    "        #if row['category'] == 'Lane Marking':\n",
    "        row_out = {'category_num':1, 'category': 'Road Arrow', 'geometry':row['geometry']}\n",
    "        df_out.append(row_out)\n",
    "    \n",
    "    # apply crs to data frame\n",
    "    df_out = GeoDataFrame(df_out)\n",
    "    df_out.crs = {'init': 'epsg:%s' % 25832}\n",
    "    \n",
    "    # save the output\n",
    "    df_out.to_file(os.path.join(output_dir, output_name), driver='GeoJSON')"
   ]
  },
  {
   "cell_type": "code",
   "execution_count": null,
   "metadata": {},
   "outputs": [],
   "source": [
    "file = 'input.geojson'\n",
    "output_name = 'pred_single_0.5.geojson'\n",
    "output_dir = 'output_folder/'\n",
    "threshold = 0.5\n",
    "sign_category_dataframe(file, output_name, output_dir, threshold)"
   ]
  },
  {
   "cell_type": "code",
   "execution_count": 5,
   "metadata": {},
   "outputs": [],
   "source": [
    "def normalise_dataframe(input_geo_file, output_name, output_dir, threshold=None):\n",
    "    df = gpd.read_file(input_geo_file)\n",
    "    bbox = []\n",
    "    for _, row in df.iterrows():\n",
    "        if row.geometry is None:\n",
    "            continue\n",
    "        if row.category not in list(mydict.keys()):\n",
    "            continue\n",
    "        if not row.geometry.is_valid:\n",
    "            continue\n",
    "        if threshold is not None:\n",
    "            if row['score'] < threshold:\n",
    "                continue\n",
    "                \n",
    "        x1, y1, x2, y2 = row.geometry.bounds\n",
    "        bbox.append(gpd.GeoSeries({'category':row['category'], \n",
    "                                   'geometry': box(x1, y1, x2, y2), \n",
    "                                   'category_num':int(mydict[row['category']])}))\n",
    "    bbox_df = gpd.GeoDataFrame(bbox)\n",
    "    bbox_df.crs = df.crs\n",
    "    \n",
    "    #bbox_df.to_file(os.path.join(output_dir, output_name), driver='GeoJSON')\n",
    "    bbox_df.to_file(os.path.join(output_dir, output_name), driver='ESRI Shapefile')\n",
    "    #write_json(bbox_df, output_name, output_dir)"
   ]
  },
  {
   "cell_type": "code",
   "execution_count": 6,
   "metadata": {},
   "outputs": [],
   "source": [
    "mydict = {'Left Arrow': '5',\n",
    "          'Left-Right Arrow': '6',\n",
    "          'Right Arrow': '4',\n",
    "          'Slightly-Left Arrow': '7',\n",
    "          'Slightly-Right Arrow': '8',\n",
    "          'Straight Arrow': '1',\n",
    "          'Straight-Left Arrow': '2',\n",
    "          'Straight-Right Arrow': '3',\n",
    "          'background': '0'}\n",
    "class_mapping = {0: 'background',\n",
    "                 1: 'Straight Arrow',\n",
    "                 2: 'Straight-Left Arrow',\n",
    "                 3: 'Straight-Right Arrow',\n",
    "                 4: 'Right Arrow',\n",
    "                 5: 'Left Arrow',\n",
    "                 6: 'Left-Right Arrow',\n",
    "                 7: 'Slightly-Left Arrow',\n",
    "                 8: 'Slightly-Right Arrow'}"
   ]
  },
  {
   "cell_type": "code",
   "execution_count": 7,
   "metadata": {},
   "outputs": [
    {
     "name": "stderr",
     "output_type": "stream",
     "text": [
      "WARNING:Fiona:CPLE_NotSupported in b\"Normalized/laundered field name: 'category_num' to 'category_n'\"\n"
     ]
    }
   ],
   "source": [
    "input_geo_file = '/home/terraloupe/Downloads/leverkusen_showcase/road_arrow/compiled_output.geojson'\n",
    "output_name = 'output_score_0.3.shp'\n",
    "output_dir = '/home/terraloupe/Downloads/leverkusen_showcase/road_arrow/'\n",
    "threshold = 0.3\n",
    "normalise_dataframe(input_geo_file, output_name, output_dir, threshold)"
   ]
  },
  {
   "cell_type": "code",
   "execution_count": null,
   "metadata": {},
   "outputs": [],
   "source": []
  }
 ],
 "metadata": {
  "kernelspec": {
   "display_name": "Python 3",
   "language": "python",
   "name": "python3"
  },
  "language_info": {
   "codemirror_mode": {
    "name": "ipython",
    "version": 3
   },
   "file_extension": ".py",
   "mimetype": "text/x-python",
   "name": "python",
   "nbconvert_exporter": "python",
   "pygments_lexer": "ipython3",
   "version": "3.5.2"
  }
 },
 "nbformat": 4,
 "nbformat_minor": 2
}
